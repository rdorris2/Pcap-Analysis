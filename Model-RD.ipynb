{
 "cells": [
  {
   "cell_type": "markdown",
   "metadata": {},
   "source": [
    "### Imports"
   ]
  },
  {
   "cell_type": "code",
   "execution_count": 1,
   "metadata": {},
   "outputs": [],
   "source": [
    "# !pip install scapy\n",
    "from scapy.all import *\n",
    "import pandas as pd\n",
    "import numpy as np\n",
    "import binascii\n",
    "import seaborn as sns\n",
    "sns.set(color_codes=True)\n",
    "%matplotlib inline"
   ]
  },
  {
   "cell_type": "markdown",
   "metadata": {},
   "source": [
    "### Load Data into Dataframe"
   ]
  },
  {
   "cell_type": "code",
   "execution_count": 2,
   "metadata": {},
   "outputs": [],
   "source": [
    "clean_all_packets = pd.read_csv('clean_all_packets.csv')"
   ]
  },
  {
   "cell_type": "code",
   "execution_count": 3,
   "metadata": {},
   "outputs": [
    {
     "data": {
      "text/html": [
       "<div>\n",
       "<style scoped>\n",
       "    .dataframe tbody tr th:only-of-type {\n",
       "        vertical-align: middle;\n",
       "    }\n",
       "\n",
       "    .dataframe tbody tr th {\n",
       "        vertical-align: top;\n",
       "    }\n",
       "\n",
       "    .dataframe thead th {\n",
       "        text-align: right;\n",
       "    }\n",
       "</style>\n",
       "<table border=\"1\" class=\"dataframe\">\n",
       "  <thead>\n",
       "    <tr style=\"text-align: right;\">\n",
       "      <th></th>\n",
       "      <th>Unnamed: 0</th>\n",
       "      <th>index</th>\n",
       "      <th>version</th>\n",
       "      <th>ihl</th>\n",
       "      <th>tos</th>\n",
       "      <th>len</th>\n",
       "      <th>id</th>\n",
       "      <th>flags</th>\n",
       "      <th>frag</th>\n",
       "      <th>ttl</th>\n",
       "      <th>...</th>\n",
       "      <th>51.15.37.44_y</th>\n",
       "      <th>52.1.134.178_y</th>\n",
       "      <th>52.70.139.21_y</th>\n",
       "      <th>52.84.124.115_y</th>\n",
       "      <th>52.84.126.158_y</th>\n",
       "      <th>52.84.126.62_y</th>\n",
       "      <th>77.222.63.27_y</th>\n",
       "      <th>8.8.8.8_y</th>\n",
       "      <th>83.217.75.51_y</th>\n",
       "      <th>92.38.135.151_y</th>\n",
       "    </tr>\n",
       "  </thead>\n",
       "  <tbody>\n",
       "    <tr>\n",
       "      <th>0</th>\n",
       "      <td>0</td>\n",
       "      <td>0</td>\n",
       "      <td>4</td>\n",
       "      <td>5</td>\n",
       "      <td>0</td>\n",
       "      <td>196</td>\n",
       "      <td>19331</td>\n",
       "      <td>NaN</td>\n",
       "      <td>0</td>\n",
       "      <td>1</td>\n",
       "      <td>...</td>\n",
       "      <td>0</td>\n",
       "      <td>0</td>\n",
       "      <td>0</td>\n",
       "      <td>0</td>\n",
       "      <td>0</td>\n",
       "      <td>0</td>\n",
       "      <td>0</td>\n",
       "      <td>0</td>\n",
       "      <td>0</td>\n",
       "      <td>0</td>\n",
       "    </tr>\n",
       "    <tr>\n",
       "      <th>1</th>\n",
       "      <td>1</td>\n",
       "      <td>1</td>\n",
       "      <td>4</td>\n",
       "      <td>5</td>\n",
       "      <td>0</td>\n",
       "      <td>196</td>\n",
       "      <td>19331</td>\n",
       "      <td>NaN</td>\n",
       "      <td>0</td>\n",
       "      <td>1</td>\n",
       "      <td>...</td>\n",
       "      <td>0</td>\n",
       "      <td>0</td>\n",
       "      <td>0</td>\n",
       "      <td>0</td>\n",
       "      <td>0</td>\n",
       "      <td>0</td>\n",
       "      <td>0</td>\n",
       "      <td>0</td>\n",
       "      <td>0</td>\n",
       "      <td>0</td>\n",
       "    </tr>\n",
       "    <tr>\n",
       "      <th>2</th>\n",
       "      <td>2</td>\n",
       "      <td>2</td>\n",
       "      <td>4</td>\n",
       "      <td>5</td>\n",
       "      <td>0</td>\n",
       "      <td>62</td>\n",
       "      <td>341</td>\n",
       "      <td>NaN</td>\n",
       "      <td>0</td>\n",
       "      <td>128</td>\n",
       "      <td>...</td>\n",
       "      <td>0</td>\n",
       "      <td>0</td>\n",
       "      <td>0</td>\n",
       "      <td>0</td>\n",
       "      <td>0</td>\n",
       "      <td>0</td>\n",
       "      <td>0</td>\n",
       "      <td>0</td>\n",
       "      <td>0</td>\n",
       "      <td>0</td>\n",
       "    </tr>\n",
       "    <tr>\n",
       "      <th>3</th>\n",
       "      <td>3</td>\n",
       "      <td>3</td>\n",
       "      <td>4</td>\n",
       "      <td>5</td>\n",
       "      <td>0</td>\n",
       "      <td>62</td>\n",
       "      <td>341</td>\n",
       "      <td>NaN</td>\n",
       "      <td>0</td>\n",
       "      <td>128</td>\n",
       "      <td>...</td>\n",
       "      <td>0</td>\n",
       "      <td>0</td>\n",
       "      <td>0</td>\n",
       "      <td>0</td>\n",
       "      <td>0</td>\n",
       "      <td>0</td>\n",
       "      <td>0</td>\n",
       "      <td>0</td>\n",
       "      <td>0</td>\n",
       "      <td>0</td>\n",
       "    </tr>\n",
       "    <tr>\n",
       "      <th>4</th>\n",
       "      <td>4</td>\n",
       "      <td>4</td>\n",
       "      <td>4</td>\n",
       "      <td>5</td>\n",
       "      <td>0</td>\n",
       "      <td>202</td>\n",
       "      <td>14015</td>\n",
       "      <td>NaN</td>\n",
       "      <td>0</td>\n",
       "      <td>1</td>\n",
       "      <td>...</td>\n",
       "      <td>0</td>\n",
       "      <td>0</td>\n",
       "      <td>0</td>\n",
       "      <td>0</td>\n",
       "      <td>0</td>\n",
       "      <td>0</td>\n",
       "      <td>0</td>\n",
       "      <td>0</td>\n",
       "      <td>0</td>\n",
       "      <td>0</td>\n",
       "    </tr>\n",
       "  </tbody>\n",
       "</table>\n",
       "<p>5 rows × 361 columns</p>\n",
       "</div>"
      ],
      "text/plain": [
       "   Unnamed: 0  index  version  ihl  tos  len     id flags  frag  ttl  \\\n",
       "0           0      0        4    5    0  196  19331   NaN     0    1   \n",
       "1           1      1        4    5    0  196  19331   NaN     0    1   \n",
       "2           2      2        4    5    0   62    341   NaN     0  128   \n",
       "3           3      3        4    5    0   62    341   NaN     0  128   \n",
       "4           4      4        4    5    0  202  14015   NaN     0    1   \n",
       "\n",
       "        ...         51.15.37.44_y  52.1.134.178_y 52.70.139.21_y  \\\n",
       "0       ...                     0               0              0   \n",
       "1       ...                     0               0              0   \n",
       "2       ...                     0               0              0   \n",
       "3       ...                     0               0              0   \n",
       "4       ...                     0               0              0   \n",
       "\n",
       "  52.84.124.115_y  52.84.126.158_y  52.84.126.62_y  77.222.63.27_y 8.8.8.8_y  \\\n",
       "0               0                0               0               0         0   \n",
       "1               0                0               0               0         0   \n",
       "2               0                0               0               0         0   \n",
       "3               0                0               0               0         0   \n",
       "4               0                0               0               0         0   \n",
       "\n",
       "  83.217.75.51_y  92.38.135.151_y  \n",
       "0              0                0  \n",
       "1              0                0  \n",
       "2              0                0  \n",
       "3              0                0  \n",
       "4              0                0  \n",
       "\n",
       "[5 rows x 361 columns]"
      ]
     },
     "execution_count": 3,
     "metadata": {},
     "output_type": "execute_result"
    }
   ],
   "source": [
    "clean_all_packets.head()"
   ]
  },
  {
   "cell_type": "code",
   "execution_count": 6,
   "metadata": {},
   "outputs": [
    {
     "data": {
      "text/plain": [
       "['Unnamed: 0',\n",
       " 'index',\n",
       " 'version',\n",
       " 'ihl',\n",
       " 'tos',\n",
       " 'len',\n",
       " 'id',\n",
       " 'flags',\n",
       " 'frag',\n",
       " 'ttl',\n",
       " 'proto',\n",
       " 'chksum',\n",
       " 'src',\n",
       " 'dst',\n",
       " 'options',\n",
       " 'time',\n",
       " 'payload',\n",
       " 'payload_raw',\n",
       " 'payload_hex',\n",
       " 'target',\n",
       " 'S',\n",
       " 'R',\n",
       " 'A',\n",
       " 'FA',\n",
       " 'SA',\n",
       " 'RA',\n",
       " 'PA',\n",
       " 'FPA',\n",
       " 'SAE',\n",
       " 'SEC']"
      ]
     },
     "execution_count": 6,
     "metadata": {},
     "output_type": "execute_result"
    }
   ],
   "source": [
    "list(clean_all_packets.columns)[0:30]"
   ]
  },
  {
   "cell_type": "markdown",
   "metadata": {},
   "source": [
    "### Set X and y values"
   ]
  },
  {
   "cell_type": "code",
   "execution_count": 7,
   "metadata": {},
   "outputs": [],
   "source": [
    "# Sets x vales\n",
    "X = clean_all_packets.drop(['Unnamed: 0','index','version','ihl','tos','time','id','flags','frag','ttl',\n",
    "                             'proto','chksum','src','dst','options','payload','payload_raw','payload_hex','target'], axis=1)\n",
    "# sets y value\n",
    "y = clean_all_packets['target']"
   ]
  },
  {
   "cell_type": "markdown",
   "metadata": {},
   "source": [
    "#### Train Test Split"
   ]
  },
  {
   "cell_type": "code",
   "execution_count": 8,
   "metadata": {},
   "outputs": [],
   "source": [
    "from sklearn.model_selection import train_test_split\n",
    "\n",
    "X_train, X_test, y_train, y_test = train_test_split(X, y, train_size=.7, test_size=.3, random_state=42)"
   ]
  },
  {
   "cell_type": "markdown",
   "metadata": {},
   "source": [
    "#### Scaling"
   ]
  },
  {
   "cell_type": "code",
   "execution_count": 9,
   "metadata": {},
   "outputs": [
    {
     "name": "stderr",
     "output_type": "stream",
     "text": [
      "/Users/dorrisb/anaconda3/envs/dsi/lib/python3.6/site-packages/sklearn/preprocessing/data.py:625: DataConversionWarning: Data with input dtype int64 were all converted to float64 by StandardScaler.\n",
      "  return self.partial_fit(X, y)\n",
      "/Users/dorrisb/anaconda3/envs/dsi/lib/python3.6/site-packages/sklearn/base.py:462: DataConversionWarning: Data with input dtype int64 were all converted to float64 by StandardScaler.\n",
      "  return self.fit(X, **fit_params).transform(X)\n",
      "/Users/dorrisb/anaconda3/envs/dsi/lib/python3.6/site-packages/ipykernel_launcher.py:5: DataConversionWarning: Data with input dtype int64 were all converted to float64 by StandardScaler.\n",
      "  \"\"\"\n"
     ]
    }
   ],
   "source": [
    "from sklearn.preprocessing import StandardScaler\n",
    "\n",
    "ss = StandardScaler()\n",
    "X_train_sc = ss.fit_transform(X_train)\n",
    "X_test_sc = ss.transform(X_test)"
   ]
  },
  {
   "cell_type": "markdown",
   "metadata": {},
   "source": [
    "#### Baseline"
   ]
  },
  {
   "cell_type": "code",
   "execution_count": 10,
   "metadata": {},
   "outputs": [
    {
     "data": {
      "text/plain": [
       "1    0.50261\n",
       "0    0.49739\n",
       "Name: target, dtype: float64"
      ]
     },
     "execution_count": 10,
     "metadata": {},
     "output_type": "execute_result"
    }
   ],
   "source": [
    "# examine the class distribution of the training set\n",
    "y_train.value_counts(normalize=True)"
   ]
  },
  {
   "cell_type": "code",
   "execution_count": 11,
   "metadata": {},
   "outputs": [
    {
     "data": {
      "text/plain": [
       "0.5026100960737491"
      ]
     },
     "execution_count": 11,
     "metadata": {},
     "output_type": "execute_result"
    }
   ],
   "source": [
    "# calculate baseline (infected pcap)\n",
    "y_train.mean()"
   ]
  },
  {
   "cell_type": "code",
   "execution_count": 12,
   "metadata": {},
   "outputs": [
    {
     "data": {
      "text/plain": [
       "0.49738990392625093"
      ]
     },
     "execution_count": 12,
     "metadata": {},
     "output_type": "execute_result"
    }
   ],
   "source": [
    "# calculate percentage of zeros (clean pcap)\n",
    "1 - y_train.mean()"
   ]
  },
  {
   "cell_type": "markdown",
   "metadata": {},
   "source": [
    "## Model"
   ]
  },
  {
   "cell_type": "markdown",
   "metadata": {},
   "source": [
    "### Linear Regression"
   ]
  },
  {
   "cell_type": "code",
   "execution_count": 16,
   "metadata": {},
   "outputs": [
    {
     "name": "stdout",
     "output_type": "stream",
     "text": [
      "Train Score: 0.2434351001395718\n",
      "Test Score: -2901135039192.707\n"
     ]
    }
   ],
   "source": [
    "from sklearn.linear_model import LinearRegression\n",
    "\n",
    "# instantiate Linear Regression model\n",
    "linreg = LinearRegression()\n",
    "\n",
    "# fir model with training data\n",
    "linreg.fit(X_train, y_train)\n",
    "\n",
    "# print training score\n",
    "print('Train Score:', linreg.score(X_train, y_train))\n",
    "\n",
    "# print testing score\n",
    "print('Test Score:', linreg.score(X_test, y_test))"
   ]
  },
  {
   "cell_type": "markdown",
   "metadata": {},
   "source": [
    "### Logistic Regression"
   ]
  },
  {
   "cell_type": "code",
   "execution_count": 28,
   "metadata": {},
   "outputs": [
    {
     "name": "stderr",
     "output_type": "stream",
     "text": [
      "/Users/dorrisb/anaconda3/envs/dsi/lib/python3.6/site-packages/sklearn/linear_model/logistic.py:433: FutureWarning: Default solver will be changed to 'lbfgs' in 0.22. Specify a solver to silence this warning.\n",
      "  FutureWarning)\n"
     ]
    },
    {
     "name": "stdout",
     "output_type": "stream",
     "text": [
      "Train Score: 0.7397678680513133\n",
      "Test Score : 0.7408487204405572\n"
     ]
    },
    {
     "data": {
      "text/plain": [
       "<bound method BaseEstimator.get_params of LogisticRegression(C=1.0, class_weight=None, dual=False, fit_intercept=True,\n",
       "          intercept_scaling=1, max_iter=100, multi_class='warn',\n",
       "          n_jobs=None, penalty='l2', random_state=None, solver='warn',\n",
       "          tol=0.0001, verbose=0, warm_start=False)>"
      ]
     },
     "execution_count": 28,
     "metadata": {},
     "output_type": "execute_result"
    }
   ],
   "source": [
    "from sklearn.linear_model import LogisticRegression\n",
    "\n",
    "# instantiating Logistic Regression Model\n",
    "logreg = LogisticRegression()\n",
    "\n",
    "# fit the model on training data\n",
    "logreg.fit(X_train_sc, y_train)\n",
    "\n",
    "# evaluates model on the training data\n",
    "print('Train Score:', logreg.score(X_train_sc, y_train))\n",
    "\n",
    "# evaluates model on the testing data\n",
    "print('Test Score :', logreg.score(X_test_sc, y_test))\n",
    "\n",
    "# create predicted y values\n",
    "y_pred_logreg = logreg.predict(X_test_sc)"
   ]
  },
  {
   "cell_type": "code",
   "execution_count": 29,
   "metadata": {},
   "outputs": [
    {
     "data": {
      "text/plain": [
       "<bound method BaseEstimator.get_params of LogisticRegression(C=1.0, class_weight=None, dual=False, fit_intercept=True,\n",
       "          intercept_scaling=1, max_iter=100, multi_class='warn',\n",
       "          n_jobs=None, penalty='l2', random_state=None, solver='warn',\n",
       "          tol=0.0001, verbose=0, warm_start=False)>"
      ]
     },
     "execution_count": 29,
     "metadata": {},
     "output_type": "execute_result"
    }
   ],
   "source": [
    "logreg.get_params"
   ]
  },
  {
   "cell_type": "markdown",
   "metadata": {},
   "source": [
    "#### Confusion Matrix"
   ]
  },
  {
   "cell_type": "code",
   "execution_count": 20,
   "metadata": {},
   "outputs": [
    {
     "data": {
      "text/plain": [
       "array([[6807, 1005],\n",
       "       [2995, 4628]])"
      ]
     },
     "execution_count": 20,
     "metadata": {},
     "output_type": "execute_result"
    }
   ],
   "source": [
    "from sklearn.metrics import confusion_matrix\n",
    "\n",
    "confusion_matrix(y_test, y_pred_logreg)"
   ]
  },
  {
   "cell_type": "code",
   "execution_count": 39,
   "metadata": {},
   "outputs": [
    {
     "name": "stdout",
     "output_type": "stream",
     "text": [
      "False Negative: 2995 -- False Positive: 1005\n",
      "\n",
      "True Negative: 6807  -- True Positive: 4628\n"
     ]
    }
   ],
   "source": [
    "tn, fp, fn, tp = confusion_matrix(y_test, y_pred_logreg).ravel()\n",
    "print('False Negative:', fn,'--', 'False Positive:',fp)\n",
    "print('')\n",
    "print('True Negative:',tn,' --', 'True Positive:', tp) "
   ]
  },
  {
   "cell_type": "code",
   "execution_count": null,
   "metadata": {},
   "outputs": [],
   "source": [
    "# from sklearn.svm import SVC\n",
    "\n",
    "# # finding best tranformation on the columns \n",
    "\n",
    "# # instantiate SVC model\n",
    "# svc = SVC()\n",
    "\n",
    "# # fit model training data (X scaled)\n",
    "# svc.fit(X_train_sc, y_train)\n",
    "\n",
    "# # evaluates model on the training data\n",
    "# print('Train Score:', svc.score(X_train_sc, y_train))\n",
    "\n",
    "# # evaluates model on the testing data\n",
    "# print('Test Score :', svc.score(X_test_sc, y_test))\n",
    "\n",
    "# # create predicted y values\n",
    "# y_pred_svc = svc.predict(X_test_sc)"
   ]
  }
 ],
 "metadata": {
  "kernelspec": {
   "display_name": "Python 3",
   "language": "python",
   "name": "python3"
  },
  "language_info": {
   "codemirror_mode": {
    "name": "ipython",
    "version": 3
   },
   "file_extension": ".py",
   "mimetype": "text/x-python",
   "name": "python",
   "nbconvert_exporter": "python",
   "pygments_lexer": "ipython3",
   "version": "3.6.8"
  }
 },
 "nbformat": 4,
 "nbformat_minor": 2
}
